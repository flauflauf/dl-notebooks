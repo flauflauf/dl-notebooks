{
 "cells": [
  {
   "cell_type": "code",
   "execution_count": 1,
   "metadata": {},
   "outputs": [],
   "source": [
    "%reload_ext autoreload\n",
    "%autoreload 2\n",
    "%matplotlib inline"
   ]
  },
  {
   "cell_type": "code",
   "execution_count": 2,
   "metadata": {},
   "outputs": [],
   "source": [
    "from fastai.vision import *"
   ]
  },
  {
   "cell_type": "code",
   "execution_count": 3,
   "metadata": {},
   "outputs": [
    {
     "data": {
      "text/plain": [
       "PosixPath('/home/jupyter/.fastai/data/facial-keypoints-detection')"
      ]
     },
     "execution_count": 3,
     "metadata": {},
     "output_type": "execute_result"
    }
   ],
   "source": [
    "path = Config.data_path()/'facial-keypoints-detection'\n",
    "path.mkdir(parents=True, exist_ok=True)\n",
    "path"
   ]
  },
  {
   "cell_type": "code",
   "execution_count": 5,
   "metadata": {},
   "outputs": [],
   "source": [
    "learn = load_learner(path/'train')"
   ]
  },
  {
   "cell_type": "code",
   "execution_count": 6,
   "metadata": {},
   "outputs": [
    {
     "data": {
      "image/png": "[encoded data removed]",
      "text/plain": [
       "<Figure size 216x216 with 1 Axes>"
      ]
     },
     "metadata": {
      "needs_background": "light"
     },
     "output_type": "display_data"
    }
   ],
   "source": [
    "test_img = open_image(path/'test/1600.jpg')\n",
    "pred = learn.predict(test_img)\n",
    "test_img.show(y=pred[0])"
   ]
  },
  {
   "cell_type": "code",
   "execution_count": 19,
   "metadata": {},
   "outputs": [
    {
     "data": {
      "text/plain": [
       "(ImagePoints (96, 96), tensor([[-0.2338,  0.3816],\n",
       "         [-0.2114, -0.3795],\n",
       "         [-0.2157,  0.2341],\n",
       "         [-0.2250,  0.5284],\n",
       "         [-0.2124, -0.2311],\n",
       "         [-0.2132, -0.5308],\n",
       "         [-0.3898,  0.1747],\n",
       "         [-0.3830,  0.6563],\n",
       "         [-0.3855, -0.1780],\n",
       "         [-0.3688, -0.6650],\n",
       "         [ 0.3331,  0.0071],\n",
       "         [ 0.5764,  0.3214],\n",
       "         [ 0.5866, -0.3118],\n",
       "         [ 0.5274,  0.0018],\n",
       "         [ 0.6307,  0.0207]]), tensor([-0.2338,  0.3816, -0.2114, -0.3795, -0.2157,  0.2341, -0.2250,  0.5284,\n",
       "         -0.2124, -0.2311, -0.2132, -0.5308, -0.3898,  0.1747, -0.3830,  0.6563,\n",
       "         -0.3855, -0.1780, -0.3688, -0.6650,  0.3331,  0.0071,  0.5764,  0.3214,\n",
       "          0.5866, -0.3118,  0.5274,  0.0018,  0.6307,  0.0207]))"
      ]
     },
     "execution_count": 19,
     "metadata": {},
     "output_type": "execute_result"
    }
   ],
   "source": [
    "pred"
   ]
  },
  {
   "cell_type": "code",
   "execution_count": null,
   "metadata": {},
   "outputs": [],
   "source": []
  }
 ],
 "metadata": {
  "kernelspec": {
   "display_name": "Python 3",
   "language": "python",
   "name": "python3"
  },
  "language_info": {
   "codemirror_mode": {
    "name": "ipython",
    "version": 3
   },
   "file_extension": ".py",
   "mimetype": "text/x-python",
   "name": "python",
   "nbconvert_exporter": "python",
   "pygments_lexer": "ipython3",
   "version": "3.7.4"
  }
 },
 "nbformat": 4,
 "nbformat_minor": 2
}
